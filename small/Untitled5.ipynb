{
 "cells": [
  {
   "cell_type": "code",
   "execution_count": 3,
   "metadata": {},
   "outputs": [
    {
     "name": "stdout",
     "output_type": "stream",
     "text": [
      "Help on function boolean_mask in module tensorflow.python.ops.array_ops:\n",
      "\n",
      "boolean_mask(tensor, mask, name='boolean_mask')\n",
      "    Apply boolean mask to tensor.  Numpy equivalent is `tensor[mask]`.\n",
      "    \n",
      "    ```python\n",
      "    # 1-D example\n",
      "    tensor = [0, 1, 2, 3]\n",
      "    mask = np.array([True, False, True, False])\n",
      "    boolean_mask(tensor, mask) ==> [0, 2]\n",
      "    ```\n",
      "    \n",
      "    In general, `0 < dim(mask) = K <= dim(tensor)`, and `mask`'s shape must match\n",
      "    the first K dimensions of `tensor`'s shape.  We then have:\n",
      "      `boolean_mask(tensor, mask)[i, j1,...,jd] = tensor[i1,...,iK,j1,...,jd]`\n",
      "    where `(i1,...,iK)` is the ith `True` entry of `mask` (row-major order).\n",
      "    \n",
      "    Args:\n",
      "      tensor:  N-D tensor.\n",
      "      mask:  K-D boolean tensor, K <= N and K must be known statically.\n",
      "      name:  A name for this operation (optional).\n",
      "    \n",
      "    Returns:\n",
      "      (N-K+1)-dimensional tensor populated by entries in `tensor` corresponding\n",
      "      to `True` values in `mask`.\n",
      "    \n",
      "    Raises:\n",
      "      ValueError:  If shapes do not conform.\n",
      "    \n",
      "    Examples:\n",
      "    \n",
      "    ```python\n",
      "    # 2-D example\n",
      "    tensor = [[1, 2], [3, 4], [5, 6]]\n",
      "    mask = np.array([True, False, True])\n",
      "    boolean_mask(tensor, mask) ==> [[1, 2], [5, 6]]\n",
      "    ```\n",
      "\n"
     ]
    }
   ],
   "source": [
    "import tensorflow as tf\n",
    "\n",
    "\n",
    "help(tf.boolean_mask)"
   ]
  },
  {
   "cell_type": "code",
   "execution_count": null,
   "metadata": {
    "collapsed": true
   },
   "outputs": [],
   "source": []
  }
 ],
 "metadata": {
  "kernelspec": {
   "display_name": "Python 2",
   "language": "python",
   "name": "python2"
  },
  "language_info": {
   "codemirror_mode": {
    "name": "ipython",
    "version": 2
   },
   "file_extension": ".py",
   "mimetype": "text/x-python",
   "name": "python",
   "nbconvert_exporter": "python",
   "pygments_lexer": "ipython2",
   "version": "2.7.13"
  }
 },
 "nbformat": 4,
 "nbformat_minor": 2
}
