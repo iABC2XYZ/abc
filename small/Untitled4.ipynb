{
 "cells": [
  {
   "cell_type": "code",
   "execution_count": 1,
   "metadata": {},
   "outputs": [
    {
     "name": "stdout",
     "output_type": "stream",
     "text": [
      "Help on function concat in module tensorflow.python.ops.array_ops:\n",
      "\n",
      "concat(values, axis, name='concat')\n",
      "    Concatenates tensors along one dimension.\n",
      "    \n",
      "    Concatenates the list of tensors `values` along dimension `axis`.  If\n",
      "    `values[i].shape = [D0, D1, ... Daxis(i), ...Dn]`, the concatenated\n",
      "    result has shape\n",
      "    \n",
      "        [D0, D1, ... Raxis, ...Dn]\n",
      "    \n",
      "    where\n",
      "    \n",
      "        Raxis = sum(Daxis(i))\n",
      "    \n",
      "    That is, the data from the input tensors is joined along the `axis`\n",
      "    dimension.\n",
      "    \n",
      "    The number of dimensions of the input tensors must match, and all dimensions\n",
      "    except `axis` must be equal.\n",
      "    \n",
      "    For example:\n",
      "    \n",
      "    ```python\n",
      "    t1 = [[1, 2, 3], [4, 5, 6]]\n",
      "    t2 = [[7, 8, 9], [10, 11, 12]]\n",
      "    tf.concat([t1, t2], 0) ==> [[1, 2, 3], [4, 5, 6], [7, 8, 9], [10, 11, 12]]\n",
      "    tf.concat([t1, t2], 1) ==> [[1, 2, 3, 7, 8, 9], [4, 5, 6, 10, 11, 12]]\n",
      "    \n",
      "    # tensor t3 with shape [2, 3]\n",
      "    # tensor t4 with shape [2, 3]\n",
      "    tf.shape(tf.concat([t3, t4], 0)) ==> [4, 3]\n",
      "    tf.shape(tf.concat([t3, t4], 1)) ==> [2, 6]\n",
      "    ```\n",
      "    \n",
      "    Note: If you are concatenating along a new axis consider using stack.\n",
      "    E.g.\n",
      "    \n",
      "    ```python\n",
      "    tf.concat([tf.expand_dims(t, axis) for t in tensors], axis)\n",
      "    ```\n",
      "    \n",
      "    can be rewritten as\n",
      "    \n",
      "    ```python\n",
      "    tf.stack(tensors, axis=axis)\n",
      "    ```\n",
      "    \n",
      "    Args:\n",
      "      values: A list of `Tensor` objects or a single `Tensor`.\n",
      "      axis: 0-D `int32` `Tensor`.  Dimension along which to concatenate.\n",
      "      name: A name for the operation (optional).\n",
      "    \n",
      "    Returns:\n",
      "      A `Tensor` resulting from concatenation of the input tensors.\n",
      "\n"
     ]
    }
   ],
   "source": [
    "import tensorflow as tf\n",
    "help(tf.concat)\n",
    "\n",
    "\n"
   ]
  },
  {
   "cell_type": "code",
   "execution_count": null,
   "metadata": {
    "collapsed": true
   },
   "outputs": [],
   "source": []
  }
 ],
 "metadata": {
  "kernelspec": {
   "display_name": "Python 2",
   "language": "python",
   "name": "python2"
  },
  "language_info": {
   "codemirror_mode": {
    "name": "ipython",
    "version": 2
   },
   "file_extension": ".py",
   "mimetype": "text/x-python",
   "name": "python",
   "nbconvert_exporter": "python",
   "pygments_lexer": "ipython2",
   "version": "2.7.13"
  }
 },
 "nbformat": 4,
 "nbformat_minor": 2
}
