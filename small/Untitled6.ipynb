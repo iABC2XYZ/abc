{
 "cells": [
  {
   "cell_type": "code",
   "execution_count": 1,
   "metadata": {},
   "outputs": [
    {
     "name": "stdout",
     "output_type": "stream",
     "text": [
      "Help on function cond in module tensorflow.python.ops.control_flow_ops:\n",
      "\n",
      "cond(pred, fn1, fn2, name=None)\n",
      "    Return either fn1() or fn2() based on the boolean predicate `pred`.\n",
      "    \n",
      "    `fn1` and `fn2` both return lists of output tensors. `fn1` and `fn2` must have\n",
      "    the same non-zero number and type of outputs.\n",
      "    \n",
      "    Note that the conditional execution applies only to the operations defined in\n",
      "    fn1 and fn2. Consider the following simple program:\n",
      "    \n",
      "    ```python\n",
      "    z = tf.multiply(a, b)\n",
      "    result = tf.cond(x < y, lambda: tf.add(x, z), lambda: tf.square(y))\n",
      "    ```\n",
      "    \n",
      "    If x < y, the `tf.add` operation will be executed and `tf.square`\n",
      "    operation will not be executed. Since z is needed for at least one\n",
      "    branch of the cond, the `tf.multiply` operation is always executed, unconditionally.\n",
      "    Although this behavior is consistent with the dataflow model of TensorFlow,\n",
      "    it has occasionally surprised some users who expected a lazier semantics.\n",
      "    \n",
      "    Args:\n",
      "      pred: A scalar determining whether to return the result of `fn1` or `fn2`.\n",
      "      fn1: The callable to be performed if pred is true.\n",
      "      fn2: The callable to be performed if pred is false.\n",
      "      name: Optional name prefix for the returned tensors.\n",
      "    \n",
      "    Returns:\n",
      "      Tensors returned by the call to either `fn1` or `fn2`. If the callables\n",
      "      return a singleton list, the element is extracted from the list.\n",
      "    \n",
      "    Raises:\n",
      "      TypeError: if `fn1` or `fn2` is not callable.\n",
      "      ValueError: if `fn1` and `fn2` do not return the same number of tensors, or\n",
      "                  return tensors of different types.\n",
      "    \n",
      "    Example:\n",
      "    \n",
      "    ```python\n",
      "      x = tf.constant(2)\n",
      "      y = tf.constant(5)\n",
      "      def f1(): return tf.multiply(x, 17)\n",
      "      def f2(): return tf.add(y, 23)\n",
      "      r = tf.cond(tf.less(x, y), f1, f2)\n",
      "      # r is set to f1().\n",
      "      # Operations in f2 (e.g., tf.add) are not executed.\n",
      "    ```\n",
      "\n"
     ]
    }
   ],
   "source": [
    "import tensorflow as tf\n",
    "\n",
    "help(tf.cond)\n"
   ]
  },
  {
   "cell_type": "code",
   "execution_count": null,
   "metadata": {
    "collapsed": true
   },
   "outputs": [],
   "source": []
  }
 ],
 "metadata": {
  "kernelspec": {
   "display_name": "Python 2",
   "language": "python",
   "name": "python2"
  },
  "language_info": {
   "codemirror_mode": {
    "name": "ipython",
    "version": 2
   },
   "file_extension": ".py",
   "mimetype": "text/x-python",
   "name": "python",
   "nbconvert_exporter": "python",
   "pygments_lexer": "ipython2",
   "version": "2.7.13"
  }
 },
 "nbformat": 4,
 "nbformat_minor": 2
}
