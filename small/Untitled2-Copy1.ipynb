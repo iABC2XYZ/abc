{
 "cells": [
  {
   "cell_type": "code",
   "execution_count": 8,
   "metadata": {},
   "outputs": [
    {
     "ename": "SyntaxError",
     "evalue": "invalid syntax (<ipython-input-8-d127621edd3e>, line 14)",
     "output_type": "error",
     "traceback": [
      "\u001b[0;36m  File \u001b[0;32m\"<ipython-input-8-d127621edd3e>\"\u001b[0;36m, line \u001b[0;32m14\u001b[0m\n\u001b[0;31m    print sess.run(tf.diag([tf.sqrt(emitX),tf.sqrt(emitX),tf.sqrt(emitY),tf.sqrt(emitY),tf.sqrt(emitZ),tf.sqrt(emitZ))\u001b[0m\n\u001b[0m                                                                                                                     ^\u001b[0m\n\u001b[0;31mSyntaxError\u001b[0m\u001b[0;31m:\u001b[0m invalid syntax\n"
     ]
    }
   ],
   "source": [
    "import tensorflow as tf\n",
    "a = tf.constant([1.0, 2.0])\n",
    "b = tf.constant([3.0, 10.0])\n",
    "c = a * b\n",
    "\n",
    "emitX=tf.constant(3)\n",
    "emitY=tf.constant(4)\n",
    "emitZ=tf.constant(5)\n",
    "\n",
    "with tf.Session() as sess:\n",
    "    print \"OK\"\n",
    "    print sess.run(tf.eye(6))\n",
    "    print sess.run(tf.diag([3.,4.]))\n",
    "    print sess.run(tf.diag([tf.sqrt(emitX),tf.sqrt(emitX),tf.sqrt(emitY),tf.sqrt(emitY),tf.sqrt(emitZ),tf.sqrt(emitZ))\n",
    "    \n"
   ]
  },
  {
   "cell_type": "code",
   "execution_count": null,
   "metadata": {
    "collapsed": true
   },
   "outputs": [],
   "source": []
  }
 ],
 "metadata": {
  "kernelspec": {
   "display_name": "Python 2",
   "language": "python",
   "name": "python2"
  },
  "language_info": {
   "codemirror_mode": {
    "name": "ipython",
    "version": 2
   },
   "file_extension": ".py",
   "mimetype": "text/x-python",
   "name": "python",
   "nbconvert_exporter": "python",
   "pygments_lexer": "ipython2",
   "version": "2.7.13"
  }
 },
 "nbformat": 4,
 "nbformat_minor": 2
}
