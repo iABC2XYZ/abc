{
 "cells": [
  {
   "cell_type": "code",
   "execution_count": 39,
   "metadata": {},
   "outputs": [
    {
     "name": "stdout",
     "output_type": "stream",
     "text": [
      "OK\n",
      "[[ 1.  0.  0.  0.  0.  0.]\n",
      " [ 0.  1.  0.  0.  0.  0.]\n",
      " [ 0.  0.  1.  0.  0.  0.]\n",
      " [ 0.  0.  0.  1.  0.  0.]\n",
      " [ 0.  0.  0.  0.  1.  0.]\n",
      " [ 0.  0.  0.  0.  0.  1.]]\n",
      "[[ 1.73205078  0.          0.          0.          0.          0.        ]\n",
      " [ 0.          1.73205078  0.          0.          0.          0.        ]\n",
      " [ 0.          0.          2.          0.          0.          0.        ]\n",
      " [ 0.          0.          0.          2.          0.          0.        ]\n",
      " [ 0.          0.          0.          0.          2.23606801  0.        ]\n",
      " [ 0.          0.          0.          0.          0.          2.23606801]]\n"
     ]
    }
   ],
   "source": [
    "import tensorflow as tf\n",
    "a = tf.constant([1.0, 2.0])\n",
    "b = tf.constant([3.0, 10.0])\n",
    "c = a * b\n",
    "\n",
    "emitX=tf.constant([3.])\n",
    "emitY=tf.constant([4.])\n",
    "emitZ=tf.constant([5.])\n",
    "\n",
    "\n",
    "with tf.Session() as sess:\n",
    "    print \"OK\"\n",
    "    print sess.run(tf.eye(6))\n",
    "    \n",
    "    print sess.run(tf.eye(6)*tf.diag([tf.sqrt(emitX[0]),tf.sqrt(emitX[0]),tf.sqrt(emitY[0]),tf.sqrt(emitY[0]),tf.sqrt(emitZ[0]),tf.sqrt(emitZ[0])]))\n",
    "\n",
    "    \n",
    "\n"
   ]
  },
  {
   "cell_type": "code",
   "execution_count": 52,
   "metadata": {},
   "outputs": [],
   "source": [
    "def  layerTwiss(energyIn,emitX,emitY,emitZ, numPart):\n",
    "    Werights=tf.Variable(tf.eye(6))\n",
    "    covT=Werights*tf.diag([tf.sqrt(emitX[0]),tf.sqrt(emitX[0]),tf.sqrt(emitY[0]),tf.sqrt(emitY[0]),tf.sqrt(emitZ[0]),tf.sqrt(emitZ[0])])\n",
    "    \n",
    "    return covT\n",
    "\n",
    "def Tmp(emitX,emitY,emitZ):\n",
    "    Werights=tf.Variable(tf.eye(6))\n",
    "    return Weights\n"
   ]
  },
  {
   "cell_type": "code",
   "execution_count": 54,
   "metadata": {},
   "outputs": [
    {
     "ename": "NameError",
     "evalue": "global name 'Weights' is not defined",
     "output_type": "error",
     "traceback": [
      "\u001b[0;31m---------------------------------------------------------------------------\u001b[0m",
      "\u001b[0;31mNameError\u001b[0m                                 Traceback (most recent call last)",
      "\u001b[0;32m<ipython-input-54-f0e7d42afed9>\u001b[0m in \u001b[0;36m<module>\u001b[0;34m()\u001b[0m\n\u001b[1;32m     10\u001b[0m \u001b[0;34m\u001b[0m\u001b[0m\n\u001b[1;32m     11\u001b[0m \u001b[0;32mwith\u001b[0m \u001b[0mtf\u001b[0m\u001b[0;34m.\u001b[0m\u001b[0mSession\u001b[0m\u001b[0;34m(\u001b[0m\u001b[0;34m)\u001b[0m \u001b[0;32mas\u001b[0m \u001b[0msess\u001b[0m\u001b[0;34m:\u001b[0m\u001b[0;34m\u001b[0m\u001b[0m\n\u001b[0;32m---> 12\u001b[0;31m      \u001b[0msess\u001b[0m\u001b[0;34m.\u001b[0m\u001b[0mrun\u001b[0m\u001b[0;34m(\u001b[0m\u001b[0mTmp\u001b[0m\u001b[0;34m(\u001b[0m\u001b[0memitX\u001b[0m\u001b[0;34m,\u001b[0m\u001b[0memitY\u001b[0m\u001b[0;34m,\u001b[0m\u001b[0memitZ\u001b[0m\u001b[0;34m)\u001b[0m\u001b[0;34m)\u001b[0m\u001b[0;34m\u001b[0m\u001b[0m\n\u001b[0m",
      "\u001b[0;32m<ipython-input-54-f0e7d42afed9>\u001b[0m in \u001b[0;36mTmp\u001b[0;34m(emitX, emitY, emitZ)\u001b[0m\n\u001b[1;32m      7\u001b[0m \u001b[0;32mdef\u001b[0m \u001b[0mTmp\u001b[0m\u001b[0;34m(\u001b[0m\u001b[0memitX\u001b[0m\u001b[0;34m,\u001b[0m\u001b[0memitY\u001b[0m\u001b[0;34m,\u001b[0m\u001b[0memitZ\u001b[0m\u001b[0;34m)\u001b[0m\u001b[0;34m:\u001b[0m\u001b[0;34m\u001b[0m\u001b[0m\n\u001b[1;32m      8\u001b[0m     \u001b[0mWerights\u001b[0m\u001b[0;34m=\u001b[0m\u001b[0mtf\u001b[0m\u001b[0;34m.\u001b[0m\u001b[0mVariable\u001b[0m\u001b[0;34m(\u001b[0m\u001b[0mtf\u001b[0m\u001b[0;34m.\u001b[0m\u001b[0meye\u001b[0m\u001b[0;34m(\u001b[0m\u001b[0;36m6\u001b[0m\u001b[0;34m)\u001b[0m\u001b[0;34m)\u001b[0m\u001b[0;34m\u001b[0m\u001b[0m\n\u001b[0;32m----> 9\u001b[0;31m     \u001b[0;32mreturn\u001b[0m \u001b[0mWeights\u001b[0m\u001b[0;34m\u001b[0m\u001b[0m\n\u001b[0m\u001b[1;32m     10\u001b[0m \u001b[0;34m\u001b[0m\u001b[0m\n\u001b[1;32m     11\u001b[0m \u001b[0;32mwith\u001b[0m \u001b[0mtf\u001b[0m\u001b[0;34m.\u001b[0m\u001b[0mSession\u001b[0m\u001b[0;34m(\u001b[0m\u001b[0;34m)\u001b[0m \u001b[0;32mas\u001b[0m \u001b[0msess\u001b[0m\u001b[0;34m:\u001b[0m\u001b[0;34m\u001b[0m\u001b[0m\n",
      "\u001b[0;31mNameError\u001b[0m: global name 'Weights' is not defined"
     ]
    }
   ],
   "source": [
    "import tensorflow as tf\n",
    "\n",
    "energyIn=tf.constant(10.)\n",
    "emitX=tf.constant([3.])\n",
    "emitY=tf.constant([4.])\n",
    "emitZ=tf.constant([5.])\n",
    "numPart=tf.constant(1000.)\n",
    "\n",
    "def Tmp(emitX,emitY,emitZ):\n",
    "    Werights=tf.Variable(tf.eye(6))\n",
    "    return Weights\n",
    "\n",
    "with tf.Session() as sess:\n",
    "     sess.run(Tmp(emitX,emitY,emitZ))"
   ]
  },
  {
   "cell_type": "code",
   "execution_count": null,
   "metadata": {
    "collapsed": true
   },
   "outputs": [],
   "source": []
  },
  {
   "cell_type": "code",
   "execution_count": null,
   "metadata": {
    "collapsed": true
   },
   "outputs": [],
   "source": []
  }
 ],
 "metadata": {
  "kernelspec": {
   "display_name": "Python 2",
   "language": "python",
   "name": "python2"
  },
  "language_info": {
   "codemirror_mode": {
    "name": "ipython",
    "version": 2
   },
   "file_extension": ".py",
   "mimetype": "text/x-python",
   "name": "python",
   "nbconvert_exporter": "python",
   "pygments_lexer": "ipython2",
   "version": "2.7.13"
  }
 },
 "nbformat": 4,
 "nbformat_minor": 2
}
