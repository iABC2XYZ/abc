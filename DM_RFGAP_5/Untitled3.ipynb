{
 "cells": [
  {
   "cell_type": "code",
   "execution_count": 12,
   "metadata": {},
   "outputs": [
    {
     "name": "stdout",
     "output_type": "stream",
     "text": [
      "WARNING:tensorflow:From <ipython-input-12-57155510c014>:10: initialize_all_variables (from tensorflow.python.ops.variables) is deprecated and will be removed after 2017-03-02.\n",
      "Instructions for updating:\n",
      "Use `tf.global_variables_initializer` instead.\n",
      "[0 1]\n",
      "[4 5]\n",
      "[4 5]\n",
      "[4 5]\n"
     ]
    }
   ],
   "source": [
    "import tensorflow as tf\n",
    "\n",
    "state = tf.Variable([0,1], name=\"counter\")\n",
    "\n",
    "\n",
    "one = tf.constant(1)\n",
    "new_value =tf.constant([4,5])\n",
    "update = tf.assign(state, new_value)\n",
    "\n",
    "init_op = tf.initialize_all_variables()\n",
    "\n",
    "with tf.Session() as sess:\n",
    "    sess.run(init_op) # 运行 init_op\n",
    "\n",
    "    print sess.run(state) # 打印出事状态\n",
    "\n",
    "    for _ in range(3):\n",
    "        sess.run(update)\n",
    "        print sess.run(state)\n",
    "\n",
    "\n"
   ]
  },
  {
   "cell_type": "code",
   "execution_count": 13,
   "metadata": {},
   "outputs": [
    {
     "name": "stdout",
     "output_type": "stream",
     "text": [
      "Help on function cond in module tensorflow.python.ops.control_flow_ops:\n",
      "\n",
      "cond(pred, fn1, fn2, name=None)\n",
      "    Return either fn1() or fn2() based on the boolean predicate `pred`.\n",
      "    \n",
      "    `fn1` and `fn2` both return lists of output tensors. `fn1` and `fn2` must have\n",
      "    the same non-zero number and type of outputs.\n",
      "    \n",
      "    Note that the conditional execution applies only to the operations defined in\n",
      "    fn1 and fn2. Consider the following simple program:\n",
      "    \n",
      "    ```python\n",
      "    z = tf.multiply(a, b)\n",
      "    result = tf.cond(x < y, lambda: tf.add(x, z), lambda: tf.square(y))\n",
      "    ```\n",
      "    \n",
      "    If x < y, the `tf.add` operation will be executed and `tf.square`\n",
      "    operation will not be executed. Since z is needed for at least one\n",
      "    branch of the cond, the `tf.multiply` operation is always executed, unconditionally.\n",
      "    Although this behavior is consistent with the dataflow model of TensorFlow,\n",
      "    it has occasionally surprised some users who expected a lazier semantics.\n",
      "    \n",
      "    Args:\n",
      "      pred: A scalar determining whether to return the result of `fn1` or `fn2`.\n",
      "      fn1: The callable to be performed if pred is true.\n",
      "      fn2: The callable to be performed if pred is false.\n",
      "      name: Optional name prefix for the returned tensors.\n",
      "    \n",
      "    Returns:\n",
      "      Tensors returned by the call to either `fn1` or `fn2`. If the callables\n",
      "      return a singleton list, the element is extracted from the list.\n",
      "    \n",
      "    Raises:\n",
      "      TypeError: if `fn1` or `fn2` is not callable.\n",
      "      ValueError: if `fn1` and `fn2` do not return the same number of tensors, or\n",
      "                  return tensors of different types.\n",
      "    \n",
      "    Example:\n",
      "    \n",
      "    ```python\n",
      "      x = tf.constant(2)\n",
      "      y = tf.constant(5)\n",
      "      def f1(): return tf.multiply(x, 17)\n",
      "      def f2(): return tf.add(y, 23)\n",
      "      r = tf.cond(tf.less(x, y), f1, f2)\n",
      "      # r is set to f1().\n",
      "      # Operations in f2 (e.g., tf.add) are not executed.\n",
      "    ```\n",
      "\n"
     ]
    }
   ],
   "source": [
    "help(tf.cond)"
   ]
  },
  {
   "cell_type": "code",
   "execution_count": 19,
   "metadata": {},
   "outputs": [
    {
     "name": "stdout",
     "output_type": "stream",
     "text": [
      "WARNING:tensorflow:From <ipython-input-19-01440b8bf485>:10: initialize_all_variables (from tensorflow.python.ops.variables) is deprecated and will be removed after 2017-03-02.\n",
      "Instructions for updating:\n",
      "Use `tf.global_variables_initializer` instead.\n",
      "[ 20.]\n",
      "[ 10.]\n",
      "max value is: 20\n",
      "min value is: 10\n"
     ]
    }
   ],
   "source": [
    "import tensorflow as tf  \n",
    "\n",
    "a = tf.constant([20.])  \n",
    "b = tf.constant([10.])  \n",
    "\n",
    "result1 = tf.cond(a[0] > b[0], lambda: a, lambda: b)  \n",
    "result2 = tf.cond(tf.less(a[0],b[0]), lambda: a, lambda: b)  \n",
    "\n",
    "# Initialize all the variables (including parameters) randomly.  \n",
    "init_op = tf.initialize_all_variables()  \n",
    "\n",
    "sess = tf.InteractiveSession()  \n",
    "# Run the init_op, evaluate the model outputs and print the results:  \n",
    "sess.run(init_op)  \n",
    "\n",
    "print sess.run(a)  \n",
    "print sess.run(b)  \n",
    "print \"max value is: %d\" % sess.run(result1)  \n",
    "print \"min value is: %d\" % sess.run(result2)  "
   ]
  },
  {
   "cell_type": "code",
   "execution_count": 20,
   "metadata": {},
   "outputs": [
    {
     "name": "stdout",
     "output_type": "stream",
     "text": [
      "Help on function constant in module tensorflow.python.framework.constant_op:\n",
      "\n",
      "constant(value, dtype=None, shape=None, name='Const', verify_shape=False)\n",
      "    Creates a constant tensor.\n",
      "    \n",
      "     The resulting tensor is populated with values of type `dtype`, as\n",
      "     specified by arguments `value` and (optionally) `shape` (see examples\n",
      "     below).\n",
      "    \n",
      "     The argument `value` can be a constant value, or a list of values of type\n",
      "     `dtype`. If `value` is a list, then the length of the list must be less\n",
      "     than or equal to the number of elements implied by the `shape` argument (if\n",
      "     specified). In the case where the list length is less than the number of\n",
      "     elements specified by `shape`, the last element in the list will be used\n",
      "     to fill the remaining entries.\n",
      "    \n",
      "     The argument `shape` is optional. If present, it specifies the dimensions of\n",
      "     the resulting tensor. If not present, the shape of `value` is used.\n",
      "    \n",
      "     If the argument `dtype` is not specified, then the type is inferred from\n",
      "     the type of `value`.\n",
      "    \n",
      "     For example:\n",
      "    \n",
      "     ```python\n",
      "     # Constant 1-D Tensor populated with value list.\n",
      "     tensor = tf.constant([1, 2, 3, 4, 5, 6, 7]) => [1 2 3 4 5 6 7]\n",
      "    \n",
      "     # Constant 2-D tensor populated with scalar value -1.\n",
      "     tensor = tf.constant(-1.0, shape=[2, 3]) => [[-1. -1. -1.]\n",
      "                                                  [-1. -1. -1.]]\n",
      "     ```\n",
      "    \n",
      "    Args:\n",
      "      value:          A constant value (or list) of output type `dtype`.\n",
      "    \n",
      "      dtype:          The type of the elements of the resulting tensor.\n",
      "    \n",
      "      shape:          Optional dimensions of resulting tensor.\n",
      "    \n",
      "      name:           Optional name for the tensor.\n",
      "    \n",
      "      verify_shape:   Boolean that enables verification of a shape of values.\n",
      "    \n",
      "    Returns:\n",
      "      A Constant Tensor.\n",
      "\n"
     ]
    }
   ],
   "source": [
    "help(tf.constant)"
   ]
  },
  {
   "cell_type": "code",
   "execution_count": null,
   "metadata": {
    "collapsed": true
   },
   "outputs": [],
   "source": []
  }
 ],
 "metadata": {
  "kernelspec": {
   "display_name": "Python 2",
   "language": "python",
   "name": "python2"
  },
  "language_info": {
   "codemirror_mode": {
    "name": "ipython",
    "version": 2
   },
   "file_extension": ".py",
   "mimetype": "text/x-python",
   "name": "python",
   "nbconvert_exporter": "python",
   "pygments_lexer": "ipython2",
   "version": "2.7.13"
  }
 },
 "nbformat": 4,
 "nbformat_minor": 2
}
