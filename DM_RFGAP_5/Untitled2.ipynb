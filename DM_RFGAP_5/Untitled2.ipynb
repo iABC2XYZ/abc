{
 "cells": [
  {
   "cell_type": "code",
   "execution_count": 3,
   "metadata": {},
   "outputs": [
    {
     "name": "stdout",
     "output_type": "stream",
     "text": [
      "Help on function assign in module tensorflow.python.ops.state_ops:\n",
      "\n",
      "assign(ref, value, validate_shape=None, use_locking=None, name=None)\n",
      "    Update 'ref' by assigning 'value' to it.\n",
      "    \n",
      "    This operation outputs \"ref\" after the assignment is done.\n",
      "    This makes it easier to chain operations that need to use the reset value.\n",
      "    \n",
      "    Args:\n",
      "      ref: A mutable `Tensor`.\n",
      "        Should be from a `Variable` node. May be uninitialized.\n",
      "      value: A `Tensor`. Must have the same type as `ref`.\n",
      "        The value to be assigned to the variable.\n",
      "      validate_shape: An optional `bool`. Defaults to `True`.\n",
      "        If true, the operation will validate that the shape\n",
      "        of 'value' matches the shape of the Tensor being assigned to.  If false,\n",
      "        'ref' will take on the shape of 'value'.\n",
      "      use_locking: An optional `bool`. Defaults to `True`.\n",
      "        If True, the assignment will be protected by a lock;\n",
      "        otherwise the behavior is undefined, but may exhibit less contention.\n",
      "      name: A name for the operation (optional).\n",
      "    \n",
      "    Returns:\n",
      "      Same as \"ref\".  Returned as a convenience for operations that want\n",
      "      to use the new value after the variable has been reset.\n",
      "\n"
     ]
    }
   ],
   "source": [
    "import tensorflow as tf\n",
    "\n",
    "help(tf.assign)\n",
    "\n",
    "\n",
    "\n"
   ]
  },
  {
   "cell_type": "code",
   "execution_count": null,
   "metadata": {
    "collapsed": true
   },
   "outputs": [],
   "source": []
  }
 ],
 "metadata": {
  "kernelspec": {
   "display_name": "Python 2",
   "language": "python",
   "name": "python2"
  },
  "language_info": {
   "codemirror_mode": {
    "name": "ipython",
    "version": 2
   },
   "file_extension": ".py",
   "mimetype": "text/x-python",
   "name": "python",
   "nbconvert_exporter": "python",
   "pygments_lexer": "ipython2",
   "version": "2.7.13"
  }
 },
 "nbformat": 4,
 "nbformat_minor": 2
}
